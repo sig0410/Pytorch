{
 "cells": [
  {
   "cell_type": "markdown",
   "metadata": {},
   "source": [
    "### RNN\n",
    "1. Sequence Data : 순서가 존재하는 데이터\n",
    "    - 주로 시계열(Time Series) 데이터 \n",
    "2. 작동원리 \n",
    "    - 첫 번째 은닉층의 값이 다음번 다시 해당 은닉층의 입력으로 들어가는 것 \n",
    "    - 정리 \n",
    "        - 은닉층 노드들은 어떤 초기값을 가지고 계산 \n",
    "        - 첫 번째 입력값이 들어온 t = 0 시점에서 입력값과 초기값의 조합으로 은닉층의 값들이 계산 \n",
    "        - t = 1 시점에서 새로 들어온 입력값과 t = 0 시점에서 계산된 은닉층의 값과 조합으로 결과값이 다시 계산 \n",
    "        - 이러한 과정을 반복 \n",
    "        - 기존의 역전파와는 다르게 순환 신경망은 계산에 사용된 시점의 수에 영향을 받음 ex) t = 0에서 t = 2까지 계산에 사용되면 그 시간 전체를 역전파 \n",
    "        - t = 2 시점에서 발생한 손실은 t = 2,1,0 시점에 전부 영향을 주고 계속 내려가는 방식 \n",
    "        - 실제 업데이트할 때 가중치에 대해 시점별 기울기를 다 더해서 한번에 업데이트 "
   ]
  },
  {
   "cell_type": "markdown",
   "metadata": {},
   "source": [
    "### Create Model"
   ]
  },
  {
   "cell_type": "code",
   "execution_count": 1,
   "metadata": {},
   "outputs": [],
   "source": [
    "import torch \n",
    "import torch.nn as nn\n",
    "import torch.optim as optim \n",
    "import numpy as np"
   ]
  },
  {
   "cell_type": "code",
   "execution_count": 61,
   "metadata": {},
   "outputs": [],
   "source": [
    "n_hidden = 35 \n",
    "lr = 0.001\n",
    "epochs = 1000\n",
    "\n",
    "string = 'hello pytorch. how long can a rnn cell remember?'\n",
    "chars = 'abcdefghijklmnopqrstuvwxyz ?!.,:;01'\n",
    "char_list = [i for i in chars]\n",
    "n_letters = len(char_list)"
   ]
  },
  {
   "cell_type": "code",
   "execution_count": 62,
   "metadata": {},
   "outputs": [],
   "source": [
    "def string_to_onehot(string):\n",
    "    start = np.zeros(shape = len(char_list), dtype = int)\n",
    "    end = np.zeros(shape = len(char_list), dtype = int)\n",
    "    start[-2] = 1\n",
    "    end[-1] = 1\n",
    "    for i in string:\n",
    "        idx = char_list.index(i)\n",
    "        zero = np.zeros(shape = len(char_list), dtype = int)\n",
    "        zero[idx] = 1\n",
    "        start = np.vstack([start,zero])\n",
    "    output = np.vstack([start, end])\n",
    "    return output\n",
    "\n",
    "# one_hot 인코딩을 해주는 함수 \n",
    "# np.vstack : 배열을 세로로 결합할 때 사용 \n",
    "# start와 end는 왜 사용할까 사용하면 길이가 2개가 더 길어지는데 "
   ]
  },
  {
   "cell_type": "code",
   "execution_count": 63,
   "metadata": {},
   "outputs": [],
   "source": [
    "def onehot_to_word(onehot_1):\n",
    "    onehot = torch.Tensor.numpy(onehot_1)\n",
    "    return char_list[onehot.argmax()]\n",
    "\n",
    "# one_hot 인코딩이 된 것을 다시 돌려주는 함수 "
   ]
  },
  {
   "cell_type": "code",
   "execution_count": 64,
   "metadata": {},
   "outputs": [],
   "source": [
    "class RNN(nn.Module):\n",
    "    def __init__(self, input_size, hidden_size, output_size):\n",
    "        super(RNN, self).__init__()\n",
    "        \n",
    "        self.input_size = input_size\n",
    "        self.hidden_size = hidden_size\n",
    "        self.output_size = output_size\n",
    "        # layer를 정의해줌 \n",
    "        \n",
    "        self.i2h = nn.Linear(input_size, hidden_size)\n",
    "        self.h2h = nn.Linear(hidden_size, hidden_size)\n",
    "        self.i2o = nn.Linear(hidden_size, output_size)\n",
    "        self.act_fn = nn.Tanh()\n",
    "        \n",
    "    def forward(self, input, hidden):\n",
    "        hidden = self.act_fn(self.i2h(input) + self.h2h(hidden))\n",
    "        output = self.i2o(hidden)\n",
    "        return output, hidden\n",
    "    \n",
    "    def init_hidden(self):\n",
    "        return torch.zeros(1, self.hidden_size)\n",
    "        # hidden layer의 초기값을 1로 지정 \n",
    "    \n",
    "rnn = RNN(n_letters, n_hidden, n_letters)"
   ]
  },
  {
   "cell_type": "code",
   "execution_count": 65,
   "metadata": {},
   "outputs": [],
   "source": [
    "loss_func = nn.MSELoss()\n",
    "optimizer = torch.optim.Adam(rnn.parameters(), lr = lr)"
   ]
  },
  {
   "cell_type": "markdown",
   "metadata": {},
   "source": [
    "### Train"
   ]
  },
  {
   "cell_type": "markdown",
   "metadata": {},
   "source": [
    "1. 학습하고자 하는 문장을 one-hot벡터로 변환한 넘파이 array를 다시 torch.Tensor로 변경 \n",
    "2. 자료형은 torch.FloatTensor로 지정 \n",
    "3. 이렇게 하면 start_token + 문장 + end_token으로 구성된 매트릭스가 생성 (아 ~~~ 그래서 start랑 end랑 나눴구나)\n"
   ]
  },
  {
   "cell_type": "code",
   "execution_count": 66,
   "metadata": {},
   "outputs": [
    {
     "name": "stdout",
     "output_type": "stream",
     "text": [
      "tensor(2.5141, grad_fn=<AddBackward0>)\n",
      "tensor(1.6394, grad_fn=<AddBackward0>)\n",
      "tensor(1.3345, grad_fn=<AddBackward0>)\n",
      "tensor(1.2275, grad_fn=<AddBackward0>)\n",
      "tensor(1.1483, grad_fn=<AddBackward0>)\n",
      "tensor(1.0734, grad_fn=<AddBackward0>)\n",
      "tensor(1.0046, grad_fn=<AddBackward0>)\n",
      "tensor(0.9369, grad_fn=<AddBackward0>)\n",
      "tensor(0.8702, grad_fn=<AddBackward0>)\n",
      "tensor(0.8063, grad_fn=<AddBackward0>)\n",
      "tensor(0.7463, grad_fn=<AddBackward0>)\n",
      "tensor(0.6914, grad_fn=<AddBackward0>)\n",
      "tensor(0.6419, grad_fn=<AddBackward0>)\n",
      "tensor(0.5976, grad_fn=<AddBackward0>)\n",
      "tensor(0.5572, grad_fn=<AddBackward0>)\n",
      "tensor(0.5195, grad_fn=<AddBackward0>)\n",
      "tensor(0.4838, grad_fn=<AddBackward0>)\n",
      "tensor(0.4499, grad_fn=<AddBackward0>)\n",
      "tensor(0.4177, grad_fn=<AddBackward0>)\n",
      "tensor(0.3875, grad_fn=<AddBackward0>)\n",
      "tensor(0.3597, grad_fn=<AddBackward0>)\n",
      "tensor(0.3345, grad_fn=<AddBackward0>)\n",
      "tensor(0.3117, grad_fn=<AddBackward0>)\n",
      "tensor(0.2911, grad_fn=<AddBackward0>)\n",
      "tensor(0.2725, grad_fn=<AddBackward0>)\n",
      "tensor(0.2556, grad_fn=<AddBackward0>)\n",
      "tensor(0.2403, grad_fn=<AddBackward0>)\n",
      "tensor(0.2265, grad_fn=<AddBackward0>)\n",
      "tensor(0.2141, grad_fn=<AddBackward0>)\n",
      "tensor(0.2028, grad_fn=<AddBackward0>)\n",
      "tensor(0.1926, grad_fn=<AddBackward0>)\n",
      "tensor(0.1833, grad_fn=<AddBackward0>)\n",
      "tensor(0.1749, grad_fn=<AddBackward0>)\n",
      "tensor(0.1672, grad_fn=<AddBackward0>)\n",
      "tensor(0.1602, grad_fn=<AddBackward0>)\n",
      "tensor(0.1537, grad_fn=<AddBackward0>)\n",
      "tensor(0.1477, grad_fn=<AddBackward0>)\n",
      "tensor(0.1421, grad_fn=<AddBackward0>)\n",
      "tensor(0.1368, grad_fn=<AddBackward0>)\n",
      "tensor(0.1319, grad_fn=<AddBackward0>)\n",
      "tensor(0.1273, grad_fn=<AddBackward0>)\n",
      "tensor(0.1229, grad_fn=<AddBackward0>)\n",
      "tensor(0.1188, grad_fn=<AddBackward0>)\n",
      "tensor(0.1149, grad_fn=<AddBackward0>)\n",
      "tensor(0.1193, grad_fn=<AddBackward0>)\n",
      "tensor(0.1102, grad_fn=<AddBackward0>)\n",
      "tensor(0.1059, grad_fn=<AddBackward0>)\n",
      "tensor(0.1028, grad_fn=<AddBackward0>)\n",
      "tensor(0.1001, grad_fn=<AddBackward0>)\n",
      "tensor(0.0975, grad_fn=<AddBackward0>)\n",
      "tensor(0.0950, grad_fn=<AddBackward0>)\n",
      "tensor(0.0927, grad_fn=<AddBackward0>)\n",
      "tensor(0.0913, grad_fn=<AddBackward0>)\n",
      "tensor(0.0892, grad_fn=<AddBackward0>)\n",
      "tensor(0.0869, grad_fn=<AddBackward0>)\n",
      "tensor(0.0848, grad_fn=<AddBackward0>)\n",
      "tensor(0.0829, grad_fn=<AddBackward0>)\n",
      "tensor(0.0810, grad_fn=<AddBackward0>)\n",
      "tensor(0.0792, grad_fn=<AddBackward0>)\n",
      "tensor(0.0774, grad_fn=<AddBackward0>)\n",
      "tensor(0.0756, grad_fn=<AddBackward0>)\n",
      "tensor(0.0757, grad_fn=<AddBackward0>)\n",
      "tensor(0.0735, grad_fn=<AddBackward0>)\n",
      "tensor(0.0715, grad_fn=<AddBackward0>)\n",
      "tensor(0.0698, grad_fn=<AddBackward0>)\n",
      "tensor(0.0683, grad_fn=<AddBackward0>)\n",
      "tensor(0.0669, grad_fn=<AddBackward0>)\n",
      "tensor(0.0655, grad_fn=<AddBackward0>)\n",
      "tensor(0.0688, grad_fn=<AddBackward0>)\n",
      "tensor(0.0642, grad_fn=<AddBackward0>)\n",
      "tensor(0.0621, grad_fn=<AddBackward0>)\n",
      "tensor(0.0608, grad_fn=<AddBackward0>)\n",
      "tensor(0.0597, grad_fn=<AddBackward0>)\n",
      "tensor(0.0606, grad_fn=<AddBackward0>)\n",
      "tensor(0.0580, grad_fn=<AddBackward0>)\n",
      "tensor(0.0566, grad_fn=<AddBackward0>)\n",
      "tensor(0.0554, grad_fn=<AddBackward0>)\n",
      "tensor(0.0575, grad_fn=<AddBackward0>)\n",
      "tensor(0.0546, grad_fn=<AddBackward0>)\n",
      "tensor(0.0532, grad_fn=<AddBackward0>)\n",
      "tensor(0.0520, grad_fn=<AddBackward0>)\n",
      "tensor(0.0510, grad_fn=<AddBackward0>)\n",
      "tensor(0.0501, grad_fn=<AddBackward0>)\n",
      "tensor(0.0493, grad_fn=<AddBackward0>)\n",
      "tensor(0.0484, grad_fn=<AddBackward0>)\n",
      "tensor(0.0541, grad_fn=<AddBackward0>)\n",
      "tensor(0.0485, grad_fn=<AddBackward0>)\n",
      "tensor(0.0467, grad_fn=<AddBackward0>)\n",
      "tensor(0.0458, grad_fn=<AddBackward0>)\n",
      "tensor(0.0450, grad_fn=<AddBackward0>)\n",
      "tensor(0.0444, grad_fn=<AddBackward0>)\n",
      "tensor(0.0448, grad_fn=<AddBackward0>)\n",
      "tensor(0.0438, grad_fn=<AddBackward0>)\n",
      "tensor(0.0426, grad_fn=<AddBackward0>)\n",
      "tensor(0.0418, grad_fn=<AddBackward0>)\n",
      "tensor(0.0412, grad_fn=<AddBackward0>)\n",
      "tensor(0.0406, grad_fn=<AddBackward0>)\n",
      "tensor(0.0400, grad_fn=<AddBackward0>)\n",
      "tensor(0.0394, grad_fn=<AddBackward0>)\n",
      "tensor(0.0388, grad_fn=<AddBackward0>)\n"
     ]
    }
   ],
   "source": [
    "one_hot = torch.from_numpy(string_to_onehot(string)).type_as(torch.FloatTensor())\n",
    "\n",
    "for i in range(epochs):\n",
    "    rnn.zero_grad()\n",
    "    # 매 epoch마다 기울기 초기화 \n",
    "    total_loss = 0\n",
    "    hidden = rnn.init_hidden()\n",
    "    \n",
    "    for j in range(one_hot.size()[0]-1):\n",
    "        # 실제 데이터는 48개이므로 48번 돌기위해서 \n",
    "        input_ = one_hot[j:j+1,:]\n",
    "        target = one_hot[j+1]\n",
    "        \n",
    "        \n",
    "        output, hidden = rnn.forward(input_, hidden)\n",
    "        loss = loss_func(output.view(-1), target.view(-1))\n",
    "        total_loss += loss\n",
    "        input_ = output\n",
    "        \n",
    "    total_loss.backward()\n",
    "    optimizer.step()\n",
    "    \n",
    "    if i % 10 ==0:\n",
    "        print(total_loss)\n"
   ]
  },
  {
   "cell_type": "code",
   "execution_count": 67,
   "metadata": {},
   "outputs": [
    {
     "name": "stdout",
     "output_type": "stream",
     "text": [
      "hello pytollrrow ol  ow ro  ol  ol rol rl  ol eo\n"
     ]
    }
   ],
   "source": [
    "start = torch.zeros(1, len(char_list))\n",
    "start[:,-2] = 1\n",
    "\n",
    "with torch.no_grad():\n",
    "    hidden = rnn.init_hidden()\n",
    "    input_ = start\n",
    "    output_string = ''\n",
    "    for i in range(len(string)):\n",
    "        output, hidden = rnn.forward(input_, hidden)\n",
    "        output_string += onehot_to_word(output.data)\n",
    "        input_ = output\n",
    "print(output_string)\n",
    "#결과는 별로 좋지 못하다."
   ]
  },
  {
   "cell_type": "markdown",
   "metadata": {},
   "source": [
    "### 결과 \n",
    "    - 문장이 길어지게 되면 학습이 안되는 문제 즉, rnn은 한계가 있음 "
   ]
  }
 ],
 "metadata": {
  "kernelspec": {
   "display_name": "Python 3",
   "language": "python",
   "name": "python3"
  },
  "language_info": {
   "codemirror_mode": {
    "name": "ipython",
    "version": 3
   },
   "file_extension": ".py",
   "mimetype": "text/x-python",
   "name": "python",
   "nbconvert_exporter": "python",
   "pygments_lexer": "ipython3",
   "version": "3.7.4"
  }
 },
 "nbformat": 4,
 "nbformat_minor": 2
}
